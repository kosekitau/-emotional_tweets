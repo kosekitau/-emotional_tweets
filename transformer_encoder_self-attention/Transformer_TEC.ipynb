{
  "nbformat": 4,
  "nbformat_minor": 0,
  "metadata": {
    "colab": {
      "name": "Transformer_TEC.ipynb",
      "provenance": [],
      "collapsed_sections": []
    },
    "kernelspec": {
      "name": "python3",
      "display_name": "Python 3"
    },
    "accelerator": "GPU"
  },
  "cells": [
    {
      "cell_type": "code",
      "metadata": {
        "id": "yWmxfK5zgbUI",
        "colab_type": "code",
        "colab": {
          "base_uri": "https://localhost:8080/",
          "height": 51
        },
        "outputId": "da3f858d-1557-4bec-a807-87d30d2c7f94"
      },
      "source": [
        "import string\n",
        "import re\n",
        "\n",
        "# 以下の記号はスペースに置き換えます（カンマ、ピリオドを除く）。\n",
        "# punctuationとは日本語で句点という意味です\n",
        "print(\"区切り文字：\", string.punctuation)\n",
        "# !\"#$%&'()*+,-./:;<=>?@[\\]^_`{|}~\n",
        "\n",
        "# 前処理\n",
        "\n",
        "\n",
        "def preprocessing_text(text):\n",
        "    # 改行コードを消去\n",
        "    text = re.sub('<br />', '', text)\n",
        "\n",
        "    # カンマ、ピリオド以外の記号をスペースに置換\n",
        "    for p in string.punctuation:\n",
        "        if (p == \".\") or (p == \",\"):\n",
        "            continue\n",
        "        else:\n",
        "            text = text.replace(p, \" \")\n",
        "\n",
        "    # ピリオドなどの前後にはスペースを入れておく\n",
        "    text = text.replace(\".\", \" . \")\n",
        "    text = text.replace(\",\", \" , \")\n",
        "    return text\n",
        "\n",
        "# 分かち書き（今回はデータが英語で、簡易的にスペースで区切る）\n",
        "\n",
        "\n",
        "def tokenizer_punctuation(text):\n",
        "    return text.strip().split()\n",
        "\n",
        "\n",
        "# 前処理と分かち書きをまとめた関数を定義\n",
        "def tokenizer_with_preprocessing(text):\n",
        "    text = preprocessing_text(text)\n",
        "    ret = tokenizer_punctuation(text)\n",
        "    return ret\n",
        "\n",
        "\n",
        "# 動作を確認します\n",
        "print(tokenizer_with_preprocessing('I like cats.'))"
      ],
      "execution_count": 8,
      "outputs": [
        {
          "output_type": "stream",
          "text": [
            "区切り文字： !\"#$%&'()*+,-./:;<=>?@[\\]^_`{|}~\n",
            "['I', 'like', 'cats', '.']\n"
          ],
          "name": "stdout"
        }
      ]
    },
    {
      "cell_type": "code",
      "metadata": {
        "id": "rDXcwehfgv2l",
        "colab_type": "code",
        "colab": {
          "base_uri": "https://localhost:8080/",
          "height": 71
        },
        "outputId": "40d91d21-660d-44a6-fd18-095da913ab5d"
      },
      "source": [
        "import torchtext\n",
        "\n",
        "max_length = 142\n",
        "TEXT = torchtext.data.Field(sequential=True, tokenize=tokenizer_with_preprocessing, \n",
        "                            use_vocab=True, \n",
        "                            lower=True, include_lengths=True, batch_first=True,\n",
        "                            fix_length=max_length, init_token='<cls>',\n",
        "                            eos_token='<eos>')\n",
        "\n",
        "LABEL = torchtext.data.Field(sequential=False, use_vocab=False)\n",
        "\n",
        "train_ds, val_ds, test_ds = torchtext.data.TabularDataset.splits(\n",
        "    path='drive/My Drive/dataset/TEC/train_test/', train='train.csv', \n",
        "    validation='val.csv', test='test.csv', format='csv', fields=[('text', TEXT), ('Label', LABEL)]\n",
        ")\n",
        "\n",
        "#分かち書きや正規化などが終了している\n",
        "print(len(train_ds))\n",
        "print(vars(train_ds[0]))"
      ],
      "execution_count": 9,
      "outputs": [
        {
          "output_type": "stream",
          "text": [
            "17050\n",
            "{'text': ['great', 'start', 'to', 'the', 'day', 'because', 'of', 'an', 'awesome', 'brother', 'and', 'a', 'great', 'god', 'thankful', 'gobblegobble'], 'Label': '3'}\n"
          ],
          "name": "stdout"
        }
      ]
    },
    {
      "cell_type": "code",
      "metadata": {
        "id": "bwDwlik2i3bE",
        "colab_type": "code",
        "colab": {
          "base_uri": "https://localhost:8080/",
          "height": 68
        },
        "outputId": "597814f6-0193-4c61-8aeb-dd27eb42c494"
      },
      "source": [
        "from torchtext.vocab import Vectors\n",
        "\n",
        "english_fasttext_vectors = Vectors(name='drive/My Drive/wiki-news-300d-1M.vec')\n",
        "\n",
        "print(english_fasttext_vectors.dim)\n",
        "print(len(english_fasttext_vectors.itos))"
      ],
      "execution_count": 11,
      "outputs": [
        {
          "output_type": "stream",
          "text": [
            "  0%|          | 0/999994 [00:00<?, ?it/s]Skipping token b'999994' with 1-dimensional vector [b'300']; likely a header\n",
            "100%|█████████▉| 999608/999994 [02:10<00:00, 7461.55it/s]"
          ],
          "name": "stderr"
        },
        {
          "output_type": "stream",
          "text": [
            "300\n",
            "999994\n"
          ],
          "name": "stdout"
        }
      ]
    },
    {
      "cell_type": "code",
      "metadata": {
        "id": "umSn6La7i6PB",
        "colab_type": "code",
        "colab": {
          "base_uri": "https://localhost:8080/",
          "height": 34
        },
        "outputId": "46bce590-f1fe-49e8-89c9-43b3b2a6b753"
      },
      "source": [
        "#ボキャブラリを作成、最低でも10回以上出現している単語\n",
        "TEXT.build_vocab(train_ds, vectors=english_fasttext_vectors, min_freq=2)\n",
        "print(TEXT.vocab.vectors.shape)"
      ],
      "execution_count": 15,
      "outputs": [
        {
          "output_type": "stream",
          "text": [
            "torch.Size([9878, 300])\n"
          ],
          "name": "stdout"
        }
      ]
    },
    {
      "cell_type": "code",
      "metadata": {
        "id": "a4GkxjrYjocL",
        "colab_type": "code",
        "colab": {
          "base_uri": "https://localhost:8080/",
          "height": 238
        },
        "outputId": "2fccebe4-3450-4d9e-9e8f-a794af49645e"
      },
      "source": [
        "train_dl = torchtext.data.Iterator(train_ds, batch_size=64, train=True)\n",
        "val_dl = torchtext.data.Iterator(val_ds, batch_size=64, train=False, sort=False)\n",
        "test_val = torchtext.data.Iterator(test_ds, batch_size=64, train=False, sort=False)\n",
        "\n",
        "batch = next(iter(val_dl))\n",
        "print(batch.text)\n",
        "print(batch.Label)"
      ],
      "execution_count": 16,
      "outputs": [
        {
          "output_type": "stream",
          "text": [
            "(tensor([[   2,    5,  113,  ...,    1,    1,    1],\n",
            "        [   2,  630, 4808,  ...,    1,    1,    1],\n",
            "        [   2,    6, 1746,  ...,    1,    1,    1],\n",
            "        ...,\n",
            "        [   2,    5,  227,  ...,    1,    1,    1],\n",
            "        [   2,  186,  185,  ...,    1,    1,    1],\n",
            "        [   2,  752,   32,  ...,    1,    1,    1]]), tensor([23,  9, 12, 34, 32, 18, 21, 19, 25, 11, 11, 26, 26, 26, 19, 18, 13,  5,\n",
            "        29, 16, 10, 27, 14, 27, 21, 26, 22, 22, 23, 11, 25, 12, 19, 26, 19, 21,\n",
            "        13, 11, 30, 13, 21, 32, 16, 19, 29, 29, 19, 14, 16, 23, 24, 15, 20, 25,\n",
            "        26, 21, 23, 24, 18,  8, 10, 28, 19, 22]))\n",
            "tensor([3, 1, 1, 5, 5, 4, 3, 0, 3, 3, 3, 5, 4, 3, 4, 3, 3, 3, 5, 3, 0, 1, 5, 4,\n",
            "        3, 3, 5, 4, 5, 4, 4, 4, 4, 5, 1, 1, 3, 3, 4, 5, 2, 1, 3, 5, 3, 3, 5, 5,\n",
            "        3, 3, 3, 3, 0, 4, 4, 3, 5, 3, 3, 3, 1, 4, 1, 3])\n"
          ],
          "name": "stdout"
        }
      ]
    },
    {
      "cell_type": "code",
      "metadata": {
        "id": "GWahVTaXj0lc",
        "colab_type": "code",
        "colab": {}
      },
      "source": [
        "# パッケージのimport\n",
        "import numpy as np\n",
        "import random\n",
        "\n",
        "import torch\n",
        "import torch.nn as nn\n",
        "import torch.optim as optim\n",
        "#埋め込み層の定義\n",
        "\n",
        "class Embedder(nn.Module):\n",
        "  def __init__(self, text_embedding_vectors):\n",
        "    super(Embedder, self).__init__()\n",
        "    #freezeで更新をしない\n",
        "    self.embeddings=nn.Embedding.from_pretrained(\n",
        "        embeddings=text_embedding_vectors, freeze=True)\n",
        "\n",
        "  def forward(self, x):\n",
        "    x_vec = self.embeddings(x)\n",
        "\n",
        "    return x_vec\n",
        "\n",
        "import math\n",
        "class PositionalEncoder(nn.Module):\n",
        "    '''入力された単語の位置を示すベクトル情報を付加する'''\n",
        "\n",
        "    def __init__(self, d_model=300, max_seq_len=256):\n",
        "        super().__init__()\n",
        "\n",
        "        self.d_model = d_model  # 単語ベクトルの次元数\n",
        "\n",
        "        # 単語の順番（pos）と埋め込みベクトルの次元の位置（i）によって一意に定まる値の表をpeとして作成\n",
        "        pe = torch.zeros(max_seq_len, d_model)\n",
        "\n",
        "        # GPUが使える場合はGPUへ送る、実際に学習時には使用する\n",
        "        #学習時以外(動作確認)で使うとerrorでるっぽい？\n",
        "        device = torch.device(\"cuda:0\" if torch.cuda.is_available() else \"cpu\")\n",
        "        pe = pe.to(device)\n",
        "\n",
        "        for pos in range(max_seq_len):\n",
        "            for i in range(0, d_model, 2):\n",
        "                pe[pos, i] = math.sin(pos / (10000 ** ((2 * i)/d_model)))\n",
        "                pe[pos, i + 1] = math.cos(pos /\n",
        "                                          (10000 ** ((2 * (i + 1))/d_model)))\n",
        "\n",
        "        # 表peの先頭に、ミニバッチ次元となる次元を足す\n",
        "        self.pe = pe.unsqueeze(0)\n",
        "\n",
        "        # 勾配を計算しないようにする\n",
        "        self.pe.requires_grad = False\n",
        "\n",
        "    def forward(self, x):\n",
        "\n",
        "        # 入力xとPositonal Encodingを足し算する\n",
        "        # xがpeよりも小さいので、大きくする\n",
        "        ret = math.sqrt(self.d_model)*x + self.pe\n",
        "        return ret\n",
        "    \n",
        "class Attention(nn.Module):\n",
        "  def __init__(self, d_model=300):\n",
        "    super().__init__()\n",
        "\n",
        "    #query, value, keyを出力\n",
        "    self.q_linear = nn.Linear(d_model, d_model)\n",
        "    self.v_linear = nn.Linear(d_model, d_model)\n",
        "    self.k_linear = nn.Linear(d_model, d_model)\n",
        "\n",
        "    #ここは最後のoutput\n",
        "    self.out = nn.Linear(d_model, d_model)\n",
        "\n",
        "    self.d_k = d_model\n",
        "\n",
        "  def forward(self, q, k, v, mask):\n",
        "    #query, value, keyを出力\n",
        "    k = self.k_linear(k)\n",
        "    q = self.q_linear(q)\n",
        "    v = self.v_linear(v)\n",
        "\n",
        "    #queryに対するmemoryの関連度を計算している, 大きさの制限もかけている\n",
        "    weights = torch.matmul(q, k.transpose(1, 2)) / math.sqrt(self.d_k)\n",
        "\n",
        "    mask = mask.unsqueeze(1)\n",
        "    #mask部分を-infで置き換え\n",
        "    weights = weights.masked_fill(mask==0, -1e9)\n",
        "\n",
        "    \"\"\"\n",
        "    softmaxで関連度を正規化\n",
        "    ここはshapeが(queryの単語数,　memoryの単語数)になっており\n",
        "    各行はqueryに対して各memoryの関連度(のようなもの)を表している\n",
        "    これを関数から出力することで可視化に使っている。\n",
        "    \"\"\"\n",
        "    normlized_weights = F.softmax(weights, dim=-1)\n",
        "\n",
        "    #Attention\n",
        "    output = torch.matmul(normlized_weights, v)\n",
        "    output = self.out(output)\n",
        "\n",
        "    return output, normlized_weights\n",
        "  \n",
        "class FeedForward(nn.Module):\n",
        "    def __init__(self, d_model, d_ff=1024, dropout=0.1):\n",
        "        '''Attention層から出力を単純に全結合層2つで特徴量を変換するだけのユニットです'''\n",
        "        super().__init__()\n",
        "\n",
        "        self.linear_1 = nn.Linear(d_model, d_ff)\n",
        "        self.dropout = nn.Dropout(dropout)\n",
        "        self.linear_2 = nn.Linear(d_ff, d_model)\n",
        "\n",
        "    def forward(self, x):\n",
        "        x = self.linear_1(x)\n",
        "        x = self.dropout(F.relu(x))\n",
        "        x = self.linear_2(x)\n",
        "        return x\n",
        "\n",
        "\n",
        "class TransformerBlock(nn.Module):\n",
        "    def __init__(self, d_model, dropout=0.1):\n",
        "        super().__init__()\n",
        "\n",
        "        # LayerNormalization層\n",
        "        # https://pytorch.org/docs/stable/nn.html?highlight=layernorm\n",
        "        self.norm_1 = nn.LayerNorm(d_model)\n",
        "        self.norm_2 = nn.LayerNorm(d_model)\n",
        "\n",
        "        # Attention層\n",
        "        self.attn = Attention(d_model)\n",
        "\n",
        "        # Attentionのあとの全結合層2つ\n",
        "        self.ff = FeedForward(d_model)\n",
        "\n",
        "        # Dropout\n",
        "        self.dropout_1 = nn.Dropout(dropout)\n",
        "        self.dropout_2 = nn.Dropout(dropout)\n",
        "\n",
        "    def forward(self, x, mask):\n",
        "        # 正規化とAttention\n",
        "        x_normlized = self.norm_1(x)\n",
        "        output, normlized_weights = self.attn(\n",
        "            x_normlized, x_normlized, x_normlized, mask)\n",
        "        \n",
        "        x2 = x + self.dropout_1(output)\n",
        "\n",
        "        # 正規化と全結合層\n",
        "        x_normlized2 = self.norm_2(x2)\n",
        "        output = x2 + self.dropout_2(self.ff(x_normlized2))\n",
        "\n",
        "        return output, normlized_weights\n",
        "  \n",
        "class ClassificationHead(nn.Module):\n",
        "  def __init__(self, d_model=300, output_dim=5):\n",
        "    super().__init__()\n",
        "\n",
        "    self.linear = nn.Linear(d_model, output_dim)\n",
        "    \n",
        "    nn.init.normal_(self.linear.weight, std=0.02)\n",
        "    nn.init.normal_(self.linear.bias, 0)\n",
        "\n",
        "  def forward(self, x):\n",
        "    #各バッチの<cls>の特徴量を抽出する\n",
        "    x0 = x[:, 0, :]\n",
        "    out = self.linear(x0)\n",
        "\n",
        "    return out\n",
        "\n",
        "class TransformerClassification(nn.Module):\n",
        "  def __init__(self, text_embedding_vectors, d_model=300, max_seq_len=140,\n",
        "               output_dim=5):\n",
        "    super().__init__()\n",
        "\n",
        "    self.net1 = Embedder(text_embedding_vectors)\n",
        "    self.net2 = PositionalEncoder(d_model=d_model, max_seq_len=max_seq_len)\n",
        "    self.net3_1 = TransformerBlock(d_model=d_model)\n",
        "    self.net3_2 = TransformerBlock(d_model=d_model)\n",
        "    self.net4 = ClassificationHead(output_dim=output_dim, d_model=d_model)\n",
        "\n",
        "  def forward(self, x, mask):\n",
        "    x1 = self.net1(x)\n",
        "    x2 = self.net2(x1)\n",
        "    x3_1, normlized_weights_1 = self.net3_1(x2, mask)\n",
        "    x3_2, normlized_weights_2 = self.net3_2(x3_1, mask)\n",
        "    x4 = self.net4(x3_2,)\n",
        "    return x4, normlized_weights_1, normlized_weights_2"
      ],
      "execution_count": 0,
      "outputs": []
    },
    {
      "cell_type": "code",
      "metadata": {
        "id": "MkPu5ImckMx_",
        "colab_type": "code",
        "colab": {
          "base_uri": "https://localhost:8080/",
          "height": 34
        },
        "outputId": "b434edb2-8e89-4dd4-981a-e2a3fe57bc0b"
      },
      "source": [
        "# 辞書オブジェクトにまとめる\n",
        "dataloaders_dict = {\"train\": train_dl, \"val\": val_dl}\n",
        "# モデル構築\n",
        "net = TransformerClassification(\n",
        "    text_embedding_vectors=TEXT.vocab.vectors, d_model=300, max_seq_len=142, output_dim=6)\n",
        "\n",
        "# ネットワークの初期化を定義\n",
        "\n",
        "\n",
        "def weights_init(m):\n",
        "    classname = m.__class__.__name__\n",
        "    if classname.find('Linear') != -1:\n",
        "        # Liner層の初期化\n",
        "        nn.init.kaiming_normal_(m.weight)\n",
        "        if m.bias is not None:\n",
        "            nn.init.constant_(m.bias, 0.0)\n",
        "\n",
        "\n",
        "# 訓練モードに設定\n",
        "net.train()\n",
        "\n",
        "# TransformerBlockモジュールを初期化実行\n",
        "net.net3_1.apply(weights_init)\n",
        "net.net3_2.apply(weights_init)\n",
        "\n",
        "\n",
        "print('ネットワーク設定完了')"
      ],
      "execution_count": 19,
      "outputs": [
        {
          "output_type": "stream",
          "text": [
            "ネットワーク設定完了\n"
          ],
          "name": "stdout"
        }
      ]
    },
    {
      "cell_type": "code",
      "metadata": {
        "id": "-gUH7Zk0kXDd",
        "colab_type": "code",
        "colab": {}
      },
      "source": [
        "#損失関数を定義\n",
        "criterion = nn.CrossEntropyLoss()\n",
        "\n",
        "#最適化手法\n",
        "learning_rate = 2e-5\n",
        "optimizer = optim.Adam(net.parameters(), lr=learning_rate)"
      ],
      "execution_count": 0,
      "outputs": []
    },
    {
      "cell_type": "code",
      "metadata": {
        "id": "Hxq1vN4Fkcnn",
        "colab_type": "code",
        "colab": {}
      },
      "source": [
        "#モデルを訓練して、訓練したモデルをreturnする\n",
        "#モデル、辞書型で定義したdataloder(イテレータ)、損失関数、オプティマイザ、エポック数を渡す\n",
        "def train_model(net, dataloaders_dict, criterion, optimizer, num_epochs):\n",
        "\n",
        "    # GPUが使えるかを確認\n",
        "    device = torch.device(\"cuda:0\" if torch.cuda.is_available() else \"cpu\")\n",
        "    print(\"使用デバイス：\", device)\n",
        "    print('-----start-------')\n",
        "    # モデルをGPUへ渡す\n",
        "    net.to(device)\n",
        "\n",
        "    # ネットワークがある程度固定であれば、高速化させる\n",
        "    torch.backends.cudnn.benchmark = True\n",
        "\n",
        "    # 各epoch\n",
        "    for epoch in range(num_epochs):\n",
        "        # 学習と検証\n",
        "        for phase in ['train', 'val']:\n",
        "            if phase == 'train':\n",
        "                net.train()  # モデルを訓練モードに\n",
        "            else:\n",
        "                net.eval()   # モデルを検証モードに\n",
        "\n",
        "            epoch_loss = 0.0  # epochの損失和\n",
        "            epoch_corrects = 0  # epochの正解数\n",
        "\n",
        "            # 各バッチ\n",
        "            for batch in (dataloaders_dict[phase]):\n",
        "                # batchはTextとLableの辞書オブジェクト\n",
        "\n",
        "                # GPUが使えるならGPUにデータを送る\n",
        "                inputs = batch.text[0].to(device)  # 文章\n",
        "                labels = batch.Label.to(device)  # ラベル\n",
        "\n",
        "                # optimizerを初期化\n",
        "                optimizer.zero_grad()\n",
        "\n",
        "                # 順伝搬（forward）計算\n",
        "                with torch.set_grad_enabled(phase == 'train'):\n",
        "\n",
        "                    # mask作成\n",
        "                    input_pad = 1  # 単語のIDにおいて、'<pad>': 1 なので\n",
        "                    input_mask = (inputs != input_pad) #mask部分がFalseに\n",
        "\n",
        "                    # モデルに入力\n",
        "                    outputs, _, _ = net(inputs, input_mask)\n",
        "                    loss = criterion(outputs, labels)  # 損失を計算\n",
        "\n",
        "                    _, preds = torch.max(outputs, 1)  # ラベルを予測\n",
        "\n",
        "                    # 訓練時はバックプロパゲーション\n",
        "                    if phase == 'train':\n",
        "                        #勾配を計算\n",
        "                        loss.backward()\n",
        "                        #パラメータの更新\n",
        "                        optimizer.step()\n",
        "\n",
        "                    # 結果の計算\n",
        "                    epoch_loss += loss.item() * inputs.size(0)  # lossの合計を更新\n",
        "                    # 正解数の合計を更新\n",
        "                    epoch_corrects += torch.sum(preds == labels.data)\n",
        "\n",
        "            # epochごとのlossと正解率\n",
        "            epoch_loss = epoch_loss / len(dataloaders_dict[phase].dataset)\n",
        "            epoch_acc = epoch_corrects.double(\n",
        "            ) / len(dataloaders_dict[phase].dataset)\n",
        "\n",
        "            print('Epoch {}/{} | {:^5} |  Loss: {:.4f} Acc: {:.4f}'.format(epoch+1, num_epochs,\n",
        "                                                                           phase, epoch_loss, epoch_acc))\n",
        "\n",
        "    return net"
      ],
      "execution_count": 0,
      "outputs": []
    },
    {
      "cell_type": "code",
      "metadata": {
        "id": "h1ub8Vg7kmT8",
        "colab_type": "code",
        "colab": {
          "base_uri": "https://localhost:8080/",
          "height": 391
        },
        "outputId": "44561a64-9659-455b-f8a8-df84bcffc980"
      },
      "source": [
        "import torch.nn.functional as F \n",
        "num_epochs = 10\n",
        "net_trained = train_model(net, dataloaders_dict,\n",
        "                          criterion, optimizer, num_epochs=num_epochs)"
      ],
      "execution_count": 22,
      "outputs": [
        {
          "output_type": "stream",
          "text": [
            "使用デバイス： cuda:0\n",
            "-----start-------\n",
            "Epoch 1/10 | train |  Loss: 1.6014 Acc: 0.3873\n",
            "Epoch 1/10 |  val  |  Loss: 1.3968 Acc: 0.4697\n",
            "Epoch 2/10 | train |  Loss: 1.3953 Acc: 0.4689\n",
            "Epoch 2/10 |  val  |  Loss: 1.3221 Acc: 0.4960\n",
            "Epoch 3/10 | train |  Loss: 1.3134 Acc: 0.4962\n",
            "Epoch 3/10 |  val  |  Loss: 1.2565 Acc: 0.5214\n",
            "Epoch 4/10 | train |  Loss: 1.2584 Acc: 0.5231\n",
            "Epoch 4/10 |  val  |  Loss: 1.2333 Acc: 0.5277\n",
            "Epoch 5/10 | train |  Loss: 1.2218 Acc: 0.5382\n",
            "Epoch 5/10 |  val  |  Loss: 1.2022 Acc: 0.5319\n",
            "Epoch 6/10 | train |  Loss: 1.1942 Acc: 0.5525\n",
            "Epoch 6/10 |  val  |  Loss: 1.1908 Acc: 0.5377\n",
            "Epoch 7/10 | train |  Loss: 1.1708 Acc: 0.5608\n",
            "Epoch 7/10 |  val  |  Loss: 1.1898 Acc: 0.5383\n",
            "Epoch 8/10 | train |  Loss: 1.1540 Acc: 0.5667\n",
            "Epoch 8/10 |  val  |  Loss: 1.1759 Acc: 0.5536\n",
            "Epoch 9/10 | train |  Loss: 1.1356 Acc: 0.5762\n",
            "Epoch 9/10 |  val  |  Loss: 1.1709 Acc: 0.5515\n",
            "Epoch 10/10 | train |  Loss: 1.1222 Acc: 0.5790\n",
            "Epoch 10/10 |  val  |  Loss: 1.1652 Acc: 0.5530\n"
          ],
          "name": "stdout"
        }
      ]
    },
    {
      "cell_type": "code",
      "metadata": {
        "id": "y_0AVG8bkoV5",
        "colab_type": "code",
        "colab": {
          "base_uri": "https://localhost:8080/",
          "height": 34
        },
        "outputId": "99a17dbd-3c9e-46fe-da52-3440522c56aa"
      },
      "source": [
        "device = torch.device('cuda:0' if torch.cuda.is_available() else 'cpu')\n",
        "\n",
        "net_trained.eval()\n",
        "net_trained.to(device)\n",
        "\n",
        "y_true = np.array([])\n",
        "y_pred = np.array([])\n",
        "\n",
        "epoch_corrects = 0\n",
        "\n",
        "for batch in (test_val):\n",
        "  inputs = batch.text[0].to(device)\n",
        "  labels = batch.Label.to(device)\n",
        "\n",
        "  with torch.set_grad_enabled(False):\n",
        "    input_pad = 1\n",
        "    input_mask = (inputs != input_pad)\n",
        "\n",
        "    outputs, _, _ = net_trained(inputs, input_mask)\n",
        "    _, preds = torch.max(outputs, 1)\n",
        "    \n",
        "    y_true = np.concatenate([y_true, labels.to(\"cpu\", torch.double).numpy()])\n",
        "    y_pred = np.concatenate([y_pred, preds.to(\"cpu\", torch.double).numpy()])\n",
        "\n",
        "    epoch_corrects += torch.sum(preds == labels.data)\n",
        "\n",
        "# 正解率\n",
        "epoch_acc = epoch_corrects.double() / len(test_val.dataset)\n",
        "\n",
        "print('テストデータ{}個での正解率：{:.4f}'.format(len(test_val.dataset),epoch_acc))"
      ],
      "execution_count": 27,
      "outputs": [
        {
          "output_type": "stream",
          "text": [
            "テストデータ2106個での正解率：0.5726\n"
          ],
          "name": "stdout"
        }
      ]
    },
    {
      "cell_type": "code",
      "metadata": {
        "id": "DoGPoSg_lPCC",
        "colab_type": "code",
        "colab": {
          "base_uri": "https://localhost:8080/",
          "height": 238
        },
        "outputId": "80f04265-5a5f-4ccc-8a26-3e15d7059a05"
      },
      "source": [
        "from sklearn.metrics import classification_report\n",
        "\n",
        "print(classification_report(y_true, y_pred, target_names=['怒り', '恐怖', '嫌悪','喜び', '悲しみ', '驚き']))"
      ],
      "execution_count": 30,
      "outputs": [
        {
          "output_type": "stream",
          "text": [
            "              precision    recall  f1-score   support\n",
            "\n",
            "          怒り       0.52      0.38      0.44       156\n",
            "          恐怖       0.68      0.51      0.59       282\n",
            "          嫌悪       0.35      0.12      0.18        76\n",
            "          喜び       0.63      0.80      0.70       824\n",
            "         悲しみ       0.46      0.40      0.42       383\n",
            "          驚き       0.49      0.48      0.49       385\n",
            "\n",
            "    accuracy                           0.57      2106\n",
            "   macro avg       0.52      0.45      0.47      2106\n",
            "weighted avg       0.56      0.57      0.56      2106\n",
            "\n"
          ],
          "name": "stdout"
        }
      ]
    },
    {
      "cell_type": "code",
      "metadata": {
        "id": "w8MregDSliWe",
        "colab_type": "code",
        "colab": {
          "base_uri": "https://localhost:8080/",
          "height": 189
        },
        "outputId": "de494430-a2ca-4843-9998-df44f270fbf0"
      },
      "source": [
        "from sklearn.metrics import confusion_matrix\n",
        "import matplotlib.pyplot as plt\n",
        "\n",
        "confmat = confusion_matrix(y_true=y_true, y_pred=y_pred)\n",
        "fig, ax = plt.subplots(figsize=(2.5, 2.5))\n",
        "ax.matshow(confmat, cmap=plt.cm.Blues, alpha=0.3)\n",
        "for i in range(confmat.shape[0]):\n",
        "    for j in range(confmat.shape[1]):\n",
        "        ax.text(x=j, y=i, s=confmat[i, j], va='center', ha='center')\n",
        "\n",
        "plt.xlabel('Predicted label')\n",
        "plt.ylabel('True label')\n",
        "\n",
        "plt.tight_layout()\n",
        "#plt.savefig('confusion_matrix.png', dpi=300)\n",
        "plt.show()"
      ],
      "execution_count": 29,
      "outputs": [
        {
          "output_type": "display_data",
          "data": {
            "image/png": "[encoded data removed]",
            "text/plain": [
              "<Figure size 180x180 with 1 Axes>"
            ]
          },
          "metadata": {
            "tags": [],
            "needs_background": "light"
          }
        }
      ]
    },
    {
      "cell_type": "code",
      "metadata": {
        "id": "V0rHCf9zlqcX",
        "colab_type": "code",
        "colab": {}
      },
      "source": [
        ""
      ],
      "execution_count": 0,
      "outputs": []
    }
  ]
}